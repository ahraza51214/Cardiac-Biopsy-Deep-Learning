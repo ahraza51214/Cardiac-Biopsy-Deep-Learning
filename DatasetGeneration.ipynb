{
 "cells": [
  {
   "cell_type": "markdown",
   "source": [
    "# Necessary Library Imports"
   ],
   "metadata": {
    "collapsed": false,
    "pycharm": {
     "name": "#%% md\n"
    }
   }
  },
  {
   "cell_type": "code",
   "execution_count": 1,
   "outputs": [],
   "source": [
    "import os\n",
    "import shutil\n",
    "import splitfolders\n",
    "import random\n",
    "from tqdm.notebook import tqdm"
   ],
   "metadata": {
    "collapsed": false,
    "pycharm": {
     "name": "#%%\n"
    }
   }
  },
  {
   "cell_type": "markdown",
   "source": [
    "# Creating dataset and splitting data"
   ],
   "metadata": {
    "collapsed": false,
    "pycharm": {
     "name": "#%% md\n"
    }
   }
  },
  {
   "cell_type": "markdown",
   "source": [
    "## Multiclass data splitting\n",
    "### Defining function"
   ],
   "metadata": {
    "collapsed": false,
    "pycharm": {
     "name": "#%% md\n"
    }
   }
  },
  {
   "cell_type": "code",
   "execution_count": 2,
   "metadata": {
    "collapsed": true,
    "pycharm": {
     "name": "#%%\n"
    }
   },
   "outputs": [],
   "source": [
    "def createMulticlassDataset(inpPath, outPath):\n",
    "    infiltrateFolderDict = {'Infiltrate WoD', 'Infiltrate WD', 'Quilty'}\n",
    "    listOfFiles = []\n",
    "    #Iterating through folders with infiltrated tiles\n",
    "    for name in infiltrateFolderDict:\n",
    "        listOfFiles += [os.path.join(f'{inpPath}/{name}', fileName)\n",
    "                        for fileName in os.listdir(f'{inpPath}/{name}')\n",
    "                        if fileName.endswith('.png')]\n",
    "    random.Random(100).shuffle(sorted(listOfFiles))\n",
    "    for fileName in tqdm(listOfFiles):\n",
    "        shutil.copy(fileName, outPath)"
   ]
  },
  {
   "cell_type": "markdown",
   "source": [
    "### Creating dataset"
   ],
   "metadata": {
    "collapsed": false,
    "pycharm": {
     "name": "#%% md\n"
    }
   }
  },
  {
   "cell_type": "code",
   "execution_count": 3,
   "outputs": [
    {
     "data": {
      "text/plain": "  0%|          | 0/1273 [00:00<?, ?it/s]",
      "application/vnd.jupyter.widget-view+json": {
       "version_major": 2,
       "version_minor": 0,
       "model_id": "df1571d5dad3416f97ff9571afad0267"
      },
      "application/json": {
       "n": 0,
       "total": 1273,
       "elapsed": 0.05643606185913086,
       "ncols": null,
       "nrows": null,
       "prefix": "",
       "ascii": false,
       "unit": "it",
       "unit_scale": false,
       "rate": null,
       "bar_format": null,
       "postfix": null,
       "unit_divisor": 1000,
       "initial": 0,
       "colour": null
      }
     },
     "metadata": {},
     "output_type": "display_data"
    },
    {
     "data": {
      "text/plain": "  0%|          | 0/1273 [00:00<?, ?it/s]",
      "application/vnd.jupyter.widget-view+json": {
       "version_major": 2,
       "version_minor": 0,
       "model_id": "28c6aa001f014d7b9b9a8e36eaeab3dc"
      },
      "application/json": {
       "n": 0,
       "total": 1273,
       "elapsed": 0.03328895568847656,
       "ncols": null,
       "nrows": null,
       "prefix": "",
       "ascii": false,
       "unit": "it",
       "unit_scale": false,
       "rate": null,
       "bar_format": null,
       "postfix": null,
       "unit_divisor": 1000,
       "initial": 0,
       "colour": null
      }
     },
     "metadata": {},
     "output_type": "display_data"
    }
   ],
   "source": [
    "image_inp_dir = '/Users/ahn/Documents/RUC/Kandidat/4 Semester/Thesis/Data/Tiles/1024x1024/Images'\n",
    "mask_inp_dir = '/Users/ahn/Documents/RUC/Kandidat/4 Semester/Thesis/Data/Tiles/1024x1024/Labels'\n",
    "image_out_dir = '/Users/ahn/Documents/RUC/Kandidat/4 Semester/Thesis/Data/Dataset/1024x1024/Multiclass/Dataset/Images'\n",
    "mask_out_dir = '/Users/ahn/Documents/RUC/Kandidat/4 Semester/Thesis/Data/Dataset/1024x1024/Multiclass/Dataset/Labels'\n",
    "\n",
    "createMulticlassDataset(image_inp_dir, image_out_dir)\n",
    "createMulticlassDataset(mask_inp_dir, mask_out_dir)"
   ],
   "metadata": {
    "collapsed": false,
    "pycharm": {
     "name": "#%%\n"
    }
   }
  },
  {
   "cell_type": "markdown",
   "source": [
    "### Spliting dataset"
   ],
   "metadata": {
    "collapsed": false,
    "pycharm": {
     "name": "#%% md\n"
    }
   }
  },
  {
   "cell_type": "code",
   "execution_count": 4,
   "outputs": [
    {
     "name": "stderr",
     "output_type": "stream",
     "text": [
      "Copying files: 2506 files [00:11, 219.30 files/s] \n"
     ]
    }
   ],
   "source": [
    "inputFolder = '/Users/ahn/Documents/RUC/Kandidat/4 Semester/Thesis/Data/Dataset/1024x1024/Multiclass/Dataset'\n",
    "outputFolder = '/Users/ahn/Documents/RUC/Kandidat/4 Semester/Thesis/Data/Dataset/1024x1024/Multiclass/splitDataset'\n",
    "\n",
    "splitfolders.ratio(input=inputFolder, output=outputFolder, seed=300, ratio=(.7,.2,.1))"
   ],
   "metadata": {
    "collapsed": false,
    "pycharm": {
     "name": "#%%\n"
    }
   }
  },
  {
   "cell_type": "markdown",
   "source": [
    "## Binary data splitting\n",
    "### Defining function"
   ],
   "metadata": {
    "collapsed": false,
    "pycharm": {
     "name": "#%% md\n"
    }
   }
  },
  {
   "cell_type": "code",
   "execution_count": 5,
   "outputs": [],
   "source": [
    "def createBinaryDataset(inpPath, outPath, classFolderName):\n",
    "    listOfFiles = []\n",
    "    listOfFiles += [os.path.join(f'{inpPath}/{classFolderName}', fileName)\n",
    "                    for fileName in os.listdir(f'{inpPath}/{classFolderName}')\n",
    "                    if fileName.endswith('.png')]\n",
    "    random.Random(200).shuffle(sorted(listOfFiles))\n",
    "    for fileName in tqdm(listOfFiles):\n",
    "        shutil.copy(fileName, outPath)"
   ],
   "metadata": {
    "collapsed": false,
    "pycharm": {
     "name": "#%%\n"
    }
   }
  },
  {
   "cell_type": "markdown",
   "source": [
    "### Infiltrate WD\n",
    "#### Creating dataset"
   ],
   "metadata": {
    "collapsed": false,
    "pycharm": {
     "name": "#%% md\n"
    }
   }
  },
  {
   "cell_type": "code",
   "execution_count": 6,
   "outputs": [
    {
     "data": {
      "text/plain": "  0%|          | 0/533 [00:00<?, ?it/s]",
      "application/vnd.jupyter.widget-view+json": {
       "version_major": 2,
       "version_minor": 0,
       "model_id": "ca7765740d3d4074879193503a440938"
      },
      "application/json": {
       "n": 0,
       "total": 533,
       "elapsed": 0.028258800506591797,
       "ncols": null,
       "nrows": null,
       "prefix": "",
       "ascii": false,
       "unit": "it",
       "unit_scale": false,
       "rate": null,
       "bar_format": null,
       "postfix": null,
       "unit_divisor": 1000,
       "initial": 0,
       "colour": null
      }
     },
     "metadata": {},
     "output_type": "display_data"
    },
    {
     "data": {
      "text/plain": "  0%|          | 0/533 [00:00<?, ?it/s]",
      "application/vnd.jupyter.widget-view+json": {
       "version_major": 2,
       "version_minor": 0,
       "model_id": "e8b1632620824f69ba98fe8c6da8d163"
      },
      "application/json": {
       "n": 0,
       "total": 533,
       "elapsed": 0.03170919418334961,
       "ncols": null,
       "nrows": null,
       "prefix": "",
       "ascii": false,
       "unit": "it",
       "unit_scale": false,
       "rate": null,
       "bar_format": null,
       "postfix": null,
       "unit_divisor": 1000,
       "initial": 0,
       "colour": null
      }
     },
     "metadata": {},
     "output_type": "display_data"
    }
   ],
   "source": [
    "image_inp_dir = '/Users/ahn/Documents/RUC/Kandidat/4 Semester/Thesis/Data/Tiles/1024x1024/Images'\n",
    "mask_inp_dir = '/Users/ahn/Documents/RUC/Kandidat/4 Semester/Thesis/Data/Tiles/1024x1024/Labels'\n",
    "infiltrateWD_image_out_dir = '/Users/ahn/Documents/RUC/Kandidat/4 Semester/Thesis/Data/Dataset/1024x1024/Binary/Infiltrate WD/Dataset/Images'\n",
    "infiltrateWD_mask_out_dir = '/Users/ahn/Documents/RUC/Kandidat/4 Semester/Thesis/Data/Dataset/1024x1024/Binary/Infiltrate WD/Dataset/Labels'\n",
    "infiltrateWD_folderName= 'Infiltrate WD'\n",
    "\n",
    "createBinaryDataset(image_inp_dir, infiltrateWD_image_out_dir, infiltrateWD_folderName)\n",
    "createBinaryDataset(mask_inp_dir, infiltrateWD_mask_out_dir, infiltrateWD_folderName)"
   ],
   "metadata": {
    "collapsed": false,
    "pycharm": {
     "name": "#%%\n"
    }
   }
  },
  {
   "cell_type": "markdown",
   "source": [
    "#### Splitting dataset"
   ],
   "metadata": {
    "collapsed": false,
    "pycharm": {
     "name": "#%% md\n"
    }
   }
  },
  {
   "cell_type": "code",
   "execution_count": 7,
   "outputs": [
    {
     "name": "stderr",
     "output_type": "stream",
     "text": [
      "Copying files: 1066 files [00:04, 215.18 files/s]\n"
     ]
    }
   ],
   "source": [
    "inputFolder = '/Users/ahn/Documents/RUC/Kandidat/4 Semester/Thesis/Data/Dataset/1024x1024/Binary/Infiltrate WD/Dataset'\n",
    "outputFolder = '/Users/ahn/Documents/RUC/Kandidat/4 Semester/Thesis/Data/Dataset/1024x1024/Binary/Infiltrate WD/splitDataset'\n",
    "\n",
    "splitfolders.ratio(input=inputFolder, output=outputFolder, seed=300, ratio=(.7,.2,.1))"
   ],
   "metadata": {
    "collapsed": false,
    "pycharm": {
     "name": "#%%\n"
    }
   }
  },
  {
   "cell_type": "markdown",
   "source": [
    "### Infiltrate WoD\n",
    "#### Creating dataset"
   ],
   "metadata": {
    "collapsed": false,
    "pycharm": {
     "name": "#%% md\n"
    }
   }
  },
  {
   "cell_type": "code",
   "execution_count": 8,
   "outputs": [
    {
     "data": {
      "text/plain": "  0%|          | 0/421 [00:00<?, ?it/s]",
      "application/vnd.jupyter.widget-view+json": {
       "version_major": 2,
       "version_minor": 0,
       "model_id": "164f1245ba364a17a48cc8e199a6b303"
      },
      "application/json": {
       "n": 0,
       "total": 421,
       "elapsed": 0.023608922958374023,
       "ncols": null,
       "nrows": null,
       "prefix": "",
       "ascii": false,
       "unit": "it",
       "unit_scale": false,
       "rate": null,
       "bar_format": null,
       "postfix": null,
       "unit_divisor": 1000,
       "initial": 0,
       "colour": null
      }
     },
     "metadata": {},
     "output_type": "display_data"
    },
    {
     "data": {
      "text/plain": "  0%|          | 0/421 [00:00<?, ?it/s]",
      "application/vnd.jupyter.widget-view+json": {
       "version_major": 2,
       "version_minor": 0,
       "model_id": "991c484826704e4e86970a47fbb7a54c"
      },
      "application/json": {
       "n": 0,
       "total": 421,
       "elapsed": 0.022406816482543945,
       "ncols": null,
       "nrows": null,
       "prefix": "",
       "ascii": false,
       "unit": "it",
       "unit_scale": false,
       "rate": null,
       "bar_format": null,
       "postfix": null,
       "unit_divisor": 1000,
       "initial": 0,
       "colour": null
      }
     },
     "metadata": {},
     "output_type": "display_data"
    }
   ],
   "source": [
    "image_inp_dir = '/Users/ahn/Documents/RUC/Kandidat/4 Semester/Thesis/Data/Tiles/1024x1024/Images'\n",
    "mask_inp_dir = '/Users/ahn/Documents/RUC/Kandidat/4 Semester/Thesis/Data/Tiles/1024x1024/Labels'\n",
    "infiltrateWoD_image_out_dir = '/Users/ahn/Documents/RUC/Kandidat/4 Semester/Thesis/Data/Dataset/1024x1024/Binary/Infiltrate WoD/Dataset/Images'\n",
    "infiltrateWoD_mask_out_dir = '/Users/ahn/Documents/RUC/Kandidat/4 Semester/Thesis/Data/Dataset/1024x1024/Binary/Infiltrate WoD/Dataset/Labels'\n",
    "infiltrateWoD_folderName= 'Infiltrate WoD'\n",
    "\n",
    "createBinaryDataset(image_inp_dir, infiltrateWoD_image_out_dir, infiltrateWoD_folderName)\n",
    "createBinaryDataset(mask_inp_dir, infiltrateWoD_mask_out_dir, infiltrateWoD_folderName)"
   ],
   "metadata": {
    "collapsed": false,
    "pycharm": {
     "name": "#%%\n"
    }
   }
  },
  {
   "cell_type": "markdown",
   "source": [
    "#### Splitting dataset"
   ],
   "metadata": {
    "collapsed": false,
    "pycharm": {
     "name": "#%% md\n"
    }
   }
  },
  {
   "cell_type": "code",
   "execution_count": 9,
   "outputs": [
    {
     "name": "stderr",
     "output_type": "stream",
     "text": [
      "Copying files: 842 files [00:03, 218.50 files/s]\n"
     ]
    }
   ],
   "source": [
    "inputFolder = '/Users/ahn/Documents/RUC/Kandidat/4 Semester/Thesis/Data/Dataset/1024x1024/Binary/Infiltrate WoD/Dataset'\n",
    "outputFolder = '/Users/ahn/Documents/RUC/Kandidat/4 Semester/Thesis/Data/Dataset/1024x1024/Binary/Infiltrate WoD/splitDataset'\n",
    "\n",
    "splitfolders.ratio(input=inputFolder, output=outputFolder, seed=300, ratio=(.7,.2,.1))"
   ],
   "metadata": {
    "collapsed": false,
    "pycharm": {
     "name": "#%%\n"
    }
   }
  },
  {
   "cell_type": "markdown",
   "source": [
    "### Quilty\n",
    "#### Creating dataset"
   ],
   "metadata": {
    "collapsed": false,
    "pycharm": {
     "name": "#%% md\n"
    }
   }
  },
  {
   "cell_type": "code",
   "execution_count": 10,
   "outputs": [
    {
     "data": {
      "text/plain": "  0%|          | 0/319 [00:00<?, ?it/s]",
      "application/vnd.jupyter.widget-view+json": {
       "version_major": 2,
       "version_minor": 0,
       "model_id": "354952c28484427d9adba7f5dcaadcdf"
      },
      "application/json": {
       "n": 0,
       "total": 319,
       "elapsed": 0.021661043167114258,
       "ncols": null,
       "nrows": null,
       "prefix": "",
       "ascii": false,
       "unit": "it",
       "unit_scale": false,
       "rate": null,
       "bar_format": null,
       "postfix": null,
       "unit_divisor": 1000,
       "initial": 0,
       "colour": null
      }
     },
     "metadata": {},
     "output_type": "display_data"
    },
    {
     "data": {
      "text/plain": "  0%|          | 0/319 [00:00<?, ?it/s]",
      "application/vnd.jupyter.widget-view+json": {
       "version_major": 2,
       "version_minor": 0,
       "model_id": "b03826a1907e463ca888ec8fbea296d8"
      },
      "application/json": {
       "n": 0,
       "total": 319,
       "elapsed": 0.014992952346801758,
       "ncols": null,
       "nrows": null,
       "prefix": "",
       "ascii": false,
       "unit": "it",
       "unit_scale": false,
       "rate": null,
       "bar_format": null,
       "postfix": null,
       "unit_divisor": 1000,
       "initial": 0,
       "colour": null
      }
     },
     "metadata": {},
     "output_type": "display_data"
    }
   ],
   "source": [
    "image_inp_dir = '/Users/ahn/Documents/RUC/Kandidat/4 Semester/Thesis/Data/Tiles/1024x1024/Images'\n",
    "mask_inp_dir = '/Users/ahn/Documents/RUC/Kandidat/4 Semester/Thesis/Data/Tiles/1024x1024/Labels'\n",
    "quilty_image_out_dir = '/Users/ahn/Documents/RUC/Kandidat/4 Semester/Thesis/Data/Dataset/1024x1024/Binary/Quilty/Dataset/Images'\n",
    "quilty_mask_out_dir = '/Users/ahn/Documents/RUC/Kandidat/4 Semester/Thesis/Data/Dataset/1024x1024/Binary/Quilty/Dataset/Labels'\n",
    "quilty_folderName= 'Quilty'\n",
    "\n",
    "createBinaryDataset(image_inp_dir, quilty_image_out_dir, quilty_folderName)\n",
    "createBinaryDataset(mask_inp_dir, quilty_mask_out_dir, quilty_folderName)"
   ],
   "metadata": {
    "collapsed": false,
    "pycharm": {
     "name": "#%%\n"
    }
   }
  },
  {
   "cell_type": "markdown",
   "source": [
    "#### Splitting dataset"
   ],
   "metadata": {
    "collapsed": false,
    "pycharm": {
     "name": "#%% md\n"
    }
   }
  },
  {
   "cell_type": "code",
   "execution_count": 11,
   "outputs": [
    {
     "name": "stderr",
     "output_type": "stream",
     "text": [
      "Copying files: 638 files [00:02, 298.68 files/s]\n"
     ]
    }
   ],
   "source": [
    "inputFolder = '/Users/ahn/Documents/RUC/Kandidat/4 Semester/Thesis/Data/Dataset/1024x1024/Binary/Quilty/Dataset'\n",
    "outputFolder = '/Users/ahn/Documents/RUC/Kandidat/4 Semester/Thesis/Data/Dataset/1024x1024/Binary/Quilty/splitDataset'\n",
    "\n",
    "splitfolders.ratio(input=inputFolder, output=outputFolder, seed=300, ratio=(.7,.2,.1))"
   ],
   "metadata": {
    "collapsed": false,
    "pycharm": {
     "name": "#%%\n"
    }
   }
  }
 ],
 "metadata": {
  "kernelspec": {
   "display_name": "Python 3",
   "language": "python",
   "name": "python3"
  },
  "language_info": {
   "codemirror_mode": {
    "name": "ipython",
    "version": 2
   },
   "file_extension": ".py",
   "mimetype": "text/x-python",
   "name": "python",
   "nbconvert_exporter": "python",
   "pygments_lexer": "ipython2",
   "version": "2.7.6"
  }
 },
 "nbformat": 4,
 "nbformat_minor": 0
}